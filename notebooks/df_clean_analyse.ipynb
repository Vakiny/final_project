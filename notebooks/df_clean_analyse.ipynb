{
 "cells": [
  {
   "cell_type": "code",
   "execution_count": null,
   "id": "42965cf6-0ca7-4303-9e66-f7f4330ba719",
   "metadata": {},
   "outputs": [],
   "source": [
    "import pandas as pd\n",
    "import numpy as np\n",
    "import matplotlib.pyplot as plt\n",
    "import seaborn as sns"
   ]
  },
  {
   "cell_type": "code",
   "execution_count": null,
   "id": "6781c901-f4d9-4604-a9ed-ac1c8bffb1fc",
   "metadata": {},
   "outputs": [],
   "source": [
    "df= pd.read_csv(\"../data/raw/Bank_Personal_Loan_Modelling.csv\")"
   ]
  },
  {
   "cell_type": "code",
   "execution_count": null,
   "id": "7ada947f-bd57-4929-b291-3f9b32b0628e",
   "metadata": {},
   "outputs": [],
   "source": [
    "df"
   ]
  },
  {
   "cell_type": "code",
   "execution_count": null,
   "id": "fb8842c0-28b9-4a22-b551-1fa9bc3dca5a",
   "metadata": {},
   "outputs": [],
   "source": [
    "df.shape"
   ]
  },
  {
   "cell_type": "code",
   "execution_count": null,
   "id": "1d1b82de-abed-46e2-a5d9-c36a60a98e41",
   "metadata": {},
   "outputs": [],
   "source": [
    "print(df.dtypes)"
   ]
  },
  {
   "cell_type": "code",
   "execution_count": null,
   "id": "a21ccfd2-e6f8-45e5-a9ce-e6ce80278ae0",
   "metadata": {},
   "outputs": [],
   "source": [
    "df.value_counts()"
   ]
  },
  {
   "cell_type": "code",
   "execution_count": null,
   "id": "af6aa500-cf6c-4aa8-ad3a-2515f73d362e",
   "metadata": {},
   "outputs": [],
   "source": [
    "df.isnull().sum()"
   ]
  },
  {
   "cell_type": "code",
   "execution_count": null,
   "id": "5e3e424b-45ec-4831-8873-688809a00d87",
   "metadata": {},
   "outputs": [],
   "source": [
    "df.duplicated().sum()"
   ]
  },
  {
   "cell_type": "code",
   "execution_count": null,
   "id": "a7ff1d73-5231-4eb7-a3b2-849db7180d72",
   "metadata": {},
   "outputs": [],
   "source": [
    "df['CCAvg']=df['CCAvg'].replace(\"/\",\".\")\n",
    "df['CCAvg']=df['CCAvg'].astype(float)*12\n",
    "df"
   ]
  },
  {
   "cell_type": "code",
   "execution_count": null,
   "id": "e6eb3b37-a83f-41ea-946f-63af0b36e6f3",
   "metadata": {},
   "outputs": [],
   "source": [
    "df[\"Experience\"]=abs(df[\"Experience\"])\n",
    "df"
   ]
  },
  {
   "cell_type": "code",
   "execution_count": null,
   "id": "fbcfceec-be87-4794-bfea-148c0a1a0a51",
   "metadata": {},
   "outputs": [],
   "source": [
    "df = df.drop(['ID'],axis=1)\n",
    "df"
   ]
  },
  {
   "cell_type": "code",
   "execution_count": null,
   "id": "2cdfb126-a855-4f79-ba17-3e687cb590c2",
   "metadata": {},
   "outputs": [],
   "source": [
    "df.describe()[1:].T.style.background_gradient(cmap='Greens', axis=1)"
   ]
  },
  {
   "cell_type": "code",
   "execution_count": null,
   "id": "0806ff94-1475-4a82-b84c-318c846c02f3",
   "metadata": {},
   "outputs": [],
   "source": [
    "plt.figure(figsize=(12, 6))\n",
    "\n",
    "sns.scatterplot(data=df, x='ZIP Code', y='Personal Loan', color='firebrick', alpha=0.6)\n",
    "\n",
    "plt.grid(True, linestyle='--', alpha=0.7)\n",
    "plt.title('Relationship between ZIP Code and Personal Loan', fontsize=14)\n",
    "plt.xlabel('ZIP Code')\n",
    "plt.ylabel('Personal Loan')\n",
    "plt.tight_layout()\n",
    "\n",
    "plt.show()"
   ]
  },
  {
   "cell_type": "code",
   "execution_count": null,
   "id": "ca109ff4-f013-4907-a0be-9878856950a9",
   "metadata": {},
   "outputs": [],
   "source": [
    "noise=df[(df['ZIP Code']<20000) & (df['Personal Loan']<.1)]\n",
    "noise"
   ]
  },
  {
   "cell_type": "code",
   "execution_count": null,
   "id": "4b31f194-480d-41ec-bf80-dbfe1cef072d",
   "metadata": {},
   "outputs": [],
   "source": [
    "df.drop(index=[384],inplace=True)"
   ]
  },
  {
   "cell_type": "code",
   "execution_count": null,
   "id": "d9bd71f0-1a87-4ab9-b428-2c4c69a871f9",
   "metadata": {},
   "outputs": [],
   "source": [
    "#Correlation matrix\n",
    "corr_matrix = df.corr()\n",
    "\n",
    "#Heatmap of the Correlation matrix\n",
    "plt.figure(figsize=(12, 8))\n",
    "sns.heatmap(corr_matrix, annot=True, cmap=\"coolwarm\", fmt='.2f', linewidths=0.5)\n",
    "plt.title(\"Correlation Matrix\")\n",
    "plt.show()"
   ]
  },
  {
   "cell_type": "code",
   "execution_count": null,
   "id": "68cb7e0e-5d57-445d-852d-772243176dbd",
   "metadata": {},
   "outputs": [],
   "source": [
    "nums=[\"Age\",\"Experience\",\"Income\",\"CCAvg\",\"Mortgage\",\"ZIP Code\"]\n",
    "fig=plt.figure(figsize=(20,10))\n",
    "for i,col in enumerate(nums):\n",
    "    ax=fig.add_subplot(2,3,i+1)\n",
    "    ax1=sns.distplot(df[col][df['Personal Loan']==0],hist=False, kde=True, label='No Personal Lone',color='red')\n",
    "    sns.distplot(df[col][df['Personal Loan']==1],hist=False, kde=True , ax=ax1,label='Personal Lone',color='darkorange')"
   ]
  },
  {
   "cell_type": "code",
   "execution_count": null,
   "id": "550067bf-0ce9-4702-9172-51bb3aa42931",
   "metadata": {},
   "outputs": [],
   "source": [
    "cols_count = ['Family', 'Education', 'Personal Loan', 'Securities Account', 'CD Account', 'Online', 'CreditCard']\n",
    "for col in cols_count:\n",
    "    print(f\"\\n{df[col].value_counts()}\")\n",
    "    print('_'*25)"
   ]
  },
  {
   "cell_type": "code",
   "execution_count": null,
   "id": "1cac962c-6b91-4c89-bda0-902c5399b4b7",
   "metadata": {},
   "outputs": [],
   "source": [
    "for col in cols_count:\n",
    "    plt.figure(figsize=(8, 4))\n",
    "    sns.countplot(x=df[col], palette='viridis')\n",
    "    plt.title(f'Distribution of {col}')\n",
    "    plt.xlabel(col)\n",
    "    plt.ylabel('Count')\n",
    "    plt.grid(axis='y', linestyle='--', alpha=0.7)\n",
    "    plt.show()"
   ]
  },
  {
   "cell_type": "code",
   "execution_count": null,
   "id": "6a234d31-9a16-42df-94db-1cffebf89739",
   "metadata": {},
   "outputs": [],
   "source": [
    "# Visualizing relationship between Income and Loan Acceptance\n",
    "sns.boxplot(x='Personal Loan', y='Income', data=df)\n",
    "plt.title('Income vs Loan Acceptance')\n",
    "plt.show()\n",
    "\n",
    "# Visualizing relationship between Education and Loan Acceptance\n",
    "sns.countplot(x='Education', hue='Personal Loan', data=df)\n",
    "plt.title('Education Level vs Loan Acceptance')\n",
    "plt.show()\n",
    "\n",
    "# Visualizing relationship between Family Size and Loan Acceptance\n",
    "sns.countplot(x='Family', hue='Personal Loan', data=df)\n",
    "plt.title('Family Size vs Loan Acceptance')\n",
    "plt.show()"
   ]
  },
  {
   "cell_type": "code",
   "execution_count": null,
   "id": "01d407a9-a825-4e8e-a945-a8f693963809",
   "metadata": {},
   "outputs": [],
   "source": [
    "# Define age bins and labels\n",
    "bins = [20, 30, 40, 50, 60, 70]\n",
    "labels = ['20-30', '30-40', '40-50', '50-60', '60-70']\n",
    "\n",
    "df['Age Group'] = pd.cut(df['Age'], bins=bins, labels=labels, right=False)\n",
    "\n",
    "print(df[['Age', 'Age Group']].head())"
   ]
  },
  {
   "cell_type": "code",
   "execution_count": null,
   "id": "73485bdf-85c5-4e97-8116-5b58733efb4b",
   "metadata": {},
   "outputs": [],
   "source": [
    "# Visualizing relationship between Age Group and Loan Acceptance\n",
    "sns.countplot(x='Age Group', hue='Personal Loan', data=df)\n",
    "plt.title('Age Group vs Loan Acceptance')\n",
    "plt.show()"
   ]
  },
  {
   "cell_type": "code",
   "execution_count": null,
   "id": "5a39d643-8a84-4f3e-8b43-71b042be43fb",
   "metadata": {},
   "outputs": [],
   "source": [
    "# Visualizing relationship between Age Group and Loan Acceptance\n",
    "sns.countplot(x='CreditCard', hue='Personal Loan', data=df)\n",
    "plt.title('Credit Card vs Loan Acceptance')\n",
    "plt.show()"
   ]
  },
  {
   "cell_type": "code",
   "execution_count": null,
   "id": "8af6cc72-9247-4c40-8ad8-2fec4f63f652",
   "metadata": {},
   "outputs": [],
   "source": [
    "df = df.drop(['Age Group'],axis=1)"
   ]
  },
  {
   "cell_type": "code",
   "execution_count": null,
   "id": "f6cb30bf-5586-4d5a-a934-771499c10610",
   "metadata": {},
   "outputs": [],
   "source": [
    "df.to_csv(\"../data/clean/loan_accpt_clean_2.csv\", index=False)"
   ]
  }
 ],
 "metadata": {
  "kernelspec": {
   "display_name": "Python 3 (ipykernel)",
   "language": "python",
   "name": "python3"
  },
  "language_info": {
   "codemirror_mode": {
    "name": "ipython",
    "version": 3
   },
   "file_extension": ".py",
   "mimetype": "text/x-python",
   "name": "python",
   "nbconvert_exporter": "python",
   "pygments_lexer": "ipython3",
   "version": "3.12.3"
  }
 },
 "nbformat": 4,
 "nbformat_minor": 5
}
